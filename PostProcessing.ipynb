{
 "cells": [
  {
   "cell_type": "code",
   "execution_count": 1,
   "id": "439d4562",
   "metadata": {},
   "outputs": [],
   "source": [
    "import cc3d\n",
    "import ants\n",
    "import numpy as np\n",
    "\n",
    "def skull_id(labels_out, idx):\n",
    "    labels_out = labels_out.reshape((1,-1))\n",
    "    labels_out = labels_out[0,:]\n",
    "    label = np.unique(labels_out)\n",
    "    label = np.arange(np.max(label) + 2)\n",
    "    hist, bin_edges = np.histogram(labels_out, bins=label)\n",
    "    hist = np.ndarray.tolist(hist)\n",
    "    hist_ = hist\n",
    "    hist_ = np.array(hist_)\n",
    "    hist.sort(reverse=True)\n",
    "    #print('hist',hist)\n",
    "    idx = (hist_== hist[idx])\n",
    "    idx = idx + 1 - 1\n",
    "    idx_ = np.sum(idx * label[0:len(idx)])\n",
    "#     print('implant_idx = ',idx_)\n",
    "    return idx_\n",
    "\n",
    "def cca_processing(data, idx):\n",
    "    # original data (512,512,z)\n",
    "    # idx refers to which components you want to choose\n",
    "    labels_out = cc3d.connected_components(data.astype('int32'))\n",
    "    skull_label = skull_id(labels_out, idx)\n",
    "    skull = (labels_out == skull_label)\n",
    "    skull=(skull + 1 - 1).astype('float32')\n",
    "    return skull\n",
    "\n",
    "def clean_operation(pred, defect):\n",
    "    # clean opeation to remove those voxels which original defects and implant both have.\n",
    "    pred[pred == defect] = 0\n",
    "    # ants could only process float datatype\n",
    "    pred = pred.astype('float32')\n",
    "    return pred"
   ]
  },
  {
   "cell_type": "code",
   "execution_count": 45,
   "id": "f3e4959d",
   "metadata": {},
   "outputs": [
    {
     "name": "stdout",
     "output_type": "stream",
     "text": [
      "save:11\n"
     ]
    }
   ],
   "source": [
    "idx = 11\n",
    "pred_implant_name = './100MixedCases/pred_implant/{}_averaged_implant.nrrd'.format(str(idx).zfill(2))\n",
    "original_defect_name = './OriginalSkull/sub{}.nrrd'.format(str(idx).zfill(2))\n",
    "implant = ants.image_read(pred_implant_name)\n",
    "\n",
    "defect_skull = ants.image_read(original_defect_name)\n",
    "origin, spacing, direction = defect_skull.origin, defect_skull.spacing, defect_skull.direction\n",
    "\n",
    "\n",
    "# Step 1\n",
    "implant = ants.morphology(implant, 'open', 4)\n",
    "implant = cca_processing(implant.numpy(), 1)\n",
    "implant = ants.from_numpy(implant, origin=origin, spacing=spacing, direction=direction)\n",
    "\n",
    "# Step 2\n",
    "implant = clean_operation(implant.numpy(), defect_skull.numpy())\n",
    "implant = ants.from_numpy(implant, origin=origin, spacing=spacing, direction=direction)\n",
    "\n",
    "output_name = './OriginalSkull/sub{}_output_implant.nrrd'.format(str(idx).zfill(2))\n",
    "ants.image_write(implant, output_name)\n",
    "print(\"save:\" + str(idx))        "
   ]
  },
  {
   "cell_type": "code",
   "execution_count": 20,
   "id": "5133fa42",
   "metadata": {},
   "outputs": [
    {
     "name": "stdout",
     "output_type": "stream",
     "text": [
      "save:3\n"
     ]
    }
   ],
   "source": [
    "# Method to remove noise that is diffifult to be removed only using opening operation\n",
    "# \"a\" and \"b\" refer to results of differernt opening parameters. \n",
    "# Usually, radius parameters of \"b\" is smaller than \"a\". It depends to how you want to process the data\n",
    "\n",
    "idx = 3\n",
    "b = ants.image_read('./OriginalSkull/sub{}_output_implant_R3.nrrd'.format(str(idx).zfill(2)))\n",
    "a = ants.image_read('./OriginalSkull/sub{}_output_implant_R4.nrrd'.format(str(idx).zfill(2)))\n",
    "\n",
    "noise = b > a\n",
    "origin, spacing, direction = b.origin, b.spacing, b.direction\n",
    "\n",
    "# Here index of components must be set manually, because the noise may not always be the biggest part.\n",
    "noise = cca_processing(noise.numpy(), 1)\n",
    "noise = ants.from_numpy(noise, origin=origin, spacing=spacing, direction=direction)\n",
    "\n",
    "b[b == noise] = 0\n",
    "output_name = './OriginalSkull/sub{}_output_implant2.nrrd'.format(str(idx).zfill(2))\n",
    "ants.image_write(b, output_name)\n",
    "print(\"save:\" + str(idx)) "
   ]
  },
  {
   "cell_type": "code",
   "execution_count": null,
   "id": "7065d8c9",
   "metadata": {},
   "outputs": [],
   "source": []
  }
 ],
 "metadata": {
  "kernelspec": {
   "display_name": "Python 3",
   "language": "python",
   "name": "python3"
  },
  "language_info": {
   "codemirror_mode": {
    "name": "ipython",
    "version": 3
   },
   "file_extension": ".py",
   "mimetype": "text/x-python",
   "name": "python",
   "nbconvert_exporter": "python",
   "pygments_lexer": "ipython3",
   "version": "3.7.1"
  }
 },
 "nbformat": 4,
 "nbformat_minor": 5
}
