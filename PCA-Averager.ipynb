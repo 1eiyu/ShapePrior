{
 "cells": [
  {
   "cell_type": "code",
   "execution_count": 1,
   "id": "402b1d47",
   "metadata": {},
   "outputs": [],
   "source": [
    "import os\n",
    "import ants\n",
    "import numpy as np\n",
    "import pandas\n",
    "from sklearn.decomposition import PCA\n",
    "\n",
    "class PCASkullAverager:\n",
    "    def __init__(self, train_path=None, test_path=None):\n",
    "        self.pca = PCA()\n",
    "        self.train_path = train_path\n",
    "        self.test_path = test_path\n",
    "        self.im_dims = self.load_training_imgs()\n",
    "\n",
    "\n",
    "    def load_training_imgs(self):\n",
    "        # Load images\n",
    "        self.df_train = pandas.read_csv(self.train_path)\n",
    "        self.ants_train = [ants.image_read(self.df_train.iloc[i, 0]) for i in range(self.df_train.shape[0])]\n",
    "        self.np_train_r = np.array([self.ants_train[i].numpy() for i in range(self.df_train.shape[0])])\n",
    "        self.im_dims = self.np_train_r.shape[1:]  # Image dimensions (eg 512, 512, 237)\n",
    "        # I must reshape because scikit-learn only allows 2D (index, image).\n",
    "        self.np_train_r = [np.reshape(self.np_train_r[i], (np.prod(self.im_dims))) for i in range(self.df_train.shape[0])]\n",
    "        print(\"Training images: \", self.df_train.shape[0])\n",
    "        return self.im_dims\n",
    "        \n",
    "    def load_test_imgs(self):\n",
    "        # Load images\n",
    "        self.df_test = pandas.read_csv(self.test_path)\n",
    "        self.ants_test = [ants.image_read(self.df_test.iloc[i, 0]) for i in range(self.df_test.shape[0])]\n",
    "        self.np_test_r = np.array([self.ants_test[i].numpy() for i in range(self.df_test.shape[0])])\n",
    "        self.np_test_r = [np.reshape(self.np_test_r[i], (np.prod(self.im_dims))) for i in range(self.df_test.shape[0])]\n",
    "        print(\"Test images: \", self.df_test.shape[0])\n",
    "        \n",
    "    def fit(self):\n",
    "        self.pca.fit(self.np_train_r)\n",
    "\n",
    "    def predict_test(self, j):\n",
    "        # pca transform\n",
    "        test_pca = self.pca.transform(self.np_test_r)  # Get coefficients in th projected space\n",
    "        \n",
    "        # inverse pca\n",
    "        inversed_pca = self.pca.inverse_transform(test_pca)  # Go back to the original space from the projected one\n",
    "        inversed_pca = inversed_pca.reshape((inversed_pca.shape[0], self.im_dims[0], self.im_dims[1], self.im_dims[2]))\n",
    "\n",
    "        for i, pred in enumerate(inversed_pca):\n",
    "            registered_pred = ants.from_numpy(pred)\n",
    "            registered_pred.set_origin(self.ants_test[i].origin)\n",
    "            registered_pred.set_direction(self.ants_test[i].direction)\n",
    "            registered_pred.set_spacing(self.ants_test[i].spacing)\n",
    "\n",
    "            \n",
    "            path, name = os.path.split(self.df_test.iloc[i, 0])\n",
    "            index = str(i).zfill(3)\n",
    "            \n",
    "            # Here transmation maxtrixes are downloaded in advance. See more about \"ants.apply_transforms\" in the documentation of \"ANTs\" libary.\n",
    "            tansformer_path = [path + '/' + index + '.nii.gz', path + '/' + index + '.mat']\n",
    "            original_skull_path = './OriginalSkull/sub' + index + '.nrrd'\n",
    "    \n",
    "            # inverse registration\n",
    "            original_skull = ants.image_read(original_skull_path)\n",
    "            averaged_skull = ants.apply_transforms(original_skull, registered_pred, \n",
    "                                                   transformlist=tansformer_path, whichtoinvert=[False, True])\n",
    "            \n",
    "            # Save Skull\n",
    "            output_skull_path = os.path.join(path, 'pred_skull')\n",
    "            if not os.path.exists(output_skull_path):\n",
    "                os.makedirs(output_skull_path)            \n",
    "            name_out = name.replace(\"warped.nrrd\", \"averaged_skull.nrrd\".format(i))\n",
    "            ants.image_write(averaged_skull, os.path.join(output_skull_path, name_out))  # Save Skull prediction\n",
    "            print(\"  Saved: {}.\".format(name_out))\n",
    "            \n",
    "            # Save Skull\n",
    "            averaged_implant = (averaged_skull - original_skull) > 0.5\n",
    "            output_implant_path = os.path.join(path, 'pred_implant')\n",
    "            if not os.path.exists(output_implant_path):\n",
    "                os.makedirs(output_implant_path)\n",
    "            name_out = name.replace(\"warped.nrrd\", \"averaged_implant.nrrd\".format(i))\n",
    "            ants.image_write(averaged_implant, os.path.join(output_implant_path, name_out))  # Save Implant prediction"
   ]
  },
  {
   "cell_type": "code",
   "execution_count": 2,
   "id": "a905306f",
   "metadata": {},
   "outputs": [
    {
     "name": "stdout",
     "output_type": "stream",
     "text": [
      "Training images:  25\n"
     ]
    }
   ],
   "source": [
    "train_file = './train.csv'  # Train files\n",
    "test = PCASkullAverager(train_file)"
   ]
  },
  {
   "cell_type": "code",
   "execution_count": 3,
   "id": "5f8ce0e5",
   "metadata": {},
   "outputs": [],
   "source": [
    "test.fit()"
   ]
  },
  {
   "cell_type": "code",
   "execution_count": 8,
   "id": "c11d505f",
   "metadata": {},
   "outputs": [
    {
     "name": "stdout",
     "output_type": "stream",
     "text": [
      "Test images:  11\n",
      "  Saved: 01_averaged_skull.nrrd.\n",
      "  Saved: 02_averaged_skull.nrrd.\n",
      "  Saved: 03_averaged_skull.nrrd.\n",
      "  Saved: 04_averaged_skull.nrrd.\n",
      "  Saved: 05_averaged_skull.nrrd.\n",
      "  Saved: 06_averaged_skull.nrrd.\n",
      "  Saved: 07_averaged_skull.nrrd.\n",
      "  Saved: 08_averaged_skull.nrrd.\n",
      "  Saved: 09_averaged_skull.nrrd.\n",
      "  Saved: 10_averaged_skull.nrrd.\n",
      "  Saved: 11_averaged_skull.nrrd.\n"
     ]
    }
   ],
   "source": [
    "test.test_path = './test.csv'  # Test files\n",
    "test.load_test_imgs()\n",
    "test.predict()"
   ]
  },
  {
   "cell_type": "code",
   "execution_count": null,
   "id": "d3e5933d",
   "metadata": {},
   "outputs": [],
   "source": []
  }
 ],
 "metadata": {
  "kernelspec": {
   "display_name": "Python 3",
   "language": "python",
   "name": "python3"
  },
  "language_info": {
   "codemirror_mode": {
    "name": "ipython",
    "version": 3
   },
   "file_extension": ".py",
   "mimetype": "text/x-python",
   "name": "python",
   "nbconvert_exporter": "python",
   "pygments_lexer": "ipython3",
   "version": "3.7.1"
  }
 },
 "nbformat": 4,
 "nbformat_minor": 5
}
