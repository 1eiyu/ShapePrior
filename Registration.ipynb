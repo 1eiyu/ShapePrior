{
 "cells": [
  {
   "cell_type": "code",
   "execution_count": 1,
   "id": "9c2b8408",
   "metadata": {},
   "outputs": [],
   "source": [
    "import ants, shutil"
   ]
  },
  {
   "cell_type": "code",
   "execution_count": 2,
   "id": "7116a558",
   "metadata": {},
   "outputs": [],
   "source": [
    "fixed = ants.image_read('../data/training_set/complete_skull/000.nrrd')"
   ]
  },
  {
   "cell_type": "code",
   "execution_count": 4,
   "id": "043469e7",
   "metadata": {},
   "outputs": [],
   "source": [
    "for idx in range(110):\n",
    "    NamePrefix = str(idx).zfill(3)\n",
    "    moving = ants.image_read('./' + NamePrefix +'.nrrd')\n",
    "    outs = ants.registration(fixed, moving, type_of_transforme = 'Rigid')\n",
    "    warped_img = outs['warpedmovout']\n",
    "    warped_to_moving = outs['fwdtransforms']\n",
    "\n",
    "    for file in warped_to_moving:\n",
    "        if file[-1] == 'z':\n",
    "            file_out = './' + NamePrefix + '.nii.gz'\n",
    "        else:\n",
    "            file_out = './' + NamePrefix + '.mat'\n",
    "        shutil.copy(file, file_out)\n",
    "    \n",
    "    ants.image_write(warped_img, './' + NamePrefix + '_warped.nrrd')"
   ]
  }
 ],
 "metadata": {
  "kernelspec": {
   "display_name": "Python 3",
   "language": "python",
   "name": "python3"
  },
  "language_info": {
   "codemirror_mode": {
    "name": "ipython",
    "version": 3
   },
   "file_extension": ".py",
   "mimetype": "text/x-python",
   "name": "python",
   "nbconvert_exporter": "python",
   "pygments_lexer": "ipython3",
   "version": "3.7.1"
  }
 },
 "nbformat": 4,
 "nbformat_minor": 5
}
